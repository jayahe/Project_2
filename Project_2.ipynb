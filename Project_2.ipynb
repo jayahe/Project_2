{
 "cells": [
  {
   "cell_type": "markdown",
   "metadata": {},
   "source": [
    "### Predicting players rating\n",
    "\n",
    "In this project you are going to predict the overall rating of soccer player based on their attributes such as 'crossing', 'finishing etc.The dataset you are going to use is from European Soccer Database (https://www.kaggle.com/hugomathien/soccer) has more than 25,000 matches and more than 10,000 players for European professional soccer seasons from 2008 to 2016.<br>\n",
    "Download the data in the same folder and run the following commmand to get it in the environment\n",
    "\n",
    "#### About the Dataset\n",
    "\n",
    "The ultimate Soccer database for data analysis and\n",
    "machine learning\n",
    "The dataset comes in the form of an SQL database and contains statistics of about 25,000 football\n",
    "matches, from the top football league of 11 European Countries. It covers seasons from 2008 to\n",
    "2016 and contains match statistics (i.e: scores, corners, fouls etc...) as well as the team formations,\n",
    "with player names and a pair of coordinates to indicate their position on the pitch.\n",
    "+25,000 matches\n",
    "+10,000 players\n",
    "11 European Countries with their lead championship\n",
    "Seasons 2008 to 2016\n",
    "Players and Teams' attributes* sourced from EA Sports' FIFA video game series, including the\n",
    "weekly updates\n",
    "Team line up with squad formation (X, Y coordinates)\n",
    "Betting odds from up to 10 providers\n",
    "Detailed match events (goal types, possession, corner, cross, fouls, cards etc...) for +10,000\n",
    "matches\n",
    "The dataset also has a set of about 35 statistics for each player, derived from EA Sports' FIFA video\n",
    "games. It is not just the stats that come with a new version of the game but also the weekly\n",
    "updates. So for instance if a player has performed poorly over a period of time and his stats get\n",
    "impacted in FIFA, you would normally see the same in the dataset.\n",
    "\n",
    "#### Python skills required to complete this project\n",
    "\n",
    "SQL:\n",
    "The data is in SQL database so students need to retrive using query language. They also need to\n",
    "know how to connect SQL database woth python. The library we are using for this in 'sqlite3'.\n",
    "\n",
    "SQLite3 can be integrated with Python using sqlite3 module, which was written by Gerhard Haring.\n",
    "It provides an SQL interface compliant with the DB-API 2.0 specification described by PEP 249. You\n",
    "do not need to install this module separately because it is shipped by default along with Python\n",
    "version 2.5.x onwards.\n",
    "To use sqlite3 module, you must first create a connection object that represents the database and\n",
    "then optionally you can create a cursor object, which will help you in executing all the SQL\n",
    "statements.\n",
    "Pandas:\n",
    "Pandas is an open-source, BSD-licensed Python library providing high-performance, easy-to-use\n",
    "data structures and data analysis tools for the Python programming language. Python with Pandas\n",
    "is used in a wide range of fields including academic and commercial domains including finance,\n",
    "economics, Statistics, analytics, etc.In this tutorial, we will learn the various features of Python\n",
    "Pandas and how to use them in practice.\n",
    "Scikit Learn\n",
    "Scikit-learn provides a range of supervised and unsupervised learning algorithms via a consistent\n",
    "interface in Python.\n",
    "The library is built upon the SciPy (Scientific Python) that must be installed before you can use\n",
    "scikit-learn. This stack that includes:\n",
    "NumPy: Base n-dimensional array package\n",
    "SciPy: Fundamental library for scientific computing\n",
    "Matplotlib: Comprehensive 2D/3D plotting\n",
    "IPython: Enhanced interactive console\n",
    "Sympy: Symbolic mathematics\n",
    "Pandas: Data structures and analysis\n",
    "Extensions or modules for SciPy care conventionally named SciKits. As such, the module provides\n",
    "learning algorithms and is named scikit-learn.\n",
    "The vision for the library is a level of robustness and support required for use in production systems.\n",
    "This means a deep focus on concerns such as easy of use, code quality, collaboration,\n",
    "documentation and performance.\n",
    "\n",
    "#### Machine Learning skills required to complete the Project\n",
    "**Supervised learning**<br>\n",
    "Supervised learning deals with learning a function from available training data. A supervised\n",
    "learning algorithm analyzes the training data and produces an inferred function, which can be used\n",
    "for mapping new examples.\n",
    "\n",
    "**Regression**<br>\n",
    "Regression is a parametric technique used to predict continuous (dependent) variable given a set of\n",
    "independent variables. It is parametric in nature because it makes certain assumptions (discussed\n",
    "next) based on the data set. If the data set follows those assumptions, regression gives incredible\n",
    "results.\n",
    "\n",
    "**Model evaluation**<br>\n",
    "Student must know how to judge a model on unseen data. What metric to select to judge the\n",
    "performance"
   ]
  },
  {
   "cell_type": "markdown",
   "metadata": {},
   "source": [
    "#### Let's get started.....\n",
    "\n",
    "**Import Libraries**"
   ]
  },
  {
   "cell_type": "code",
   "execution_count": 108,
   "metadata": {},
   "outputs": [],
   "source": [
    "import sqlite3\n",
    "import pandas as pd\n",
    "import numpy as np\n",
    "from sklearn.tree import DecisionTreeRegressor\n",
    "from sklearn.linear_model import LinearRegression,Ridge,Lasso,ElasticNet\n",
    "from sklearn.model_selection import train_test_split,cross_val_score,GridSearchCV,KFold, RandomizedSearchCV\n",
    "from sklearn.metrics import mean_squared_error\n",
    "from math import sqrt"
   ]
  },
  {
   "cell_type": "code",
   "execution_count": 2,
   "metadata": {},
   "outputs": [],
   "source": [
    "import matplotlib.pyplot as plt\n",
    "import seaborn as sns\n",
    "%matplotlib inline\n",
    "from pandas.plotting import scatter_matrix\n",
    "\n",
    "import warnings\n",
    "warnings.filterwarnings('ignore')"
   ]
  },
  {
   "cell_type": "markdown",
   "metadata": {},
   "source": [
    "#### Step 1: Create SQL connection and load dataset"
   ]
  },
  {
   "cell_type": "code",
   "execution_count": 3,
   "metadata": {},
   "outputs": [],
   "source": [
    "# Create your connection.\n",
    "cnx = sqlite3.connect('database.sqlite')\n",
    "df = pd.read_sql_query(\"SELECT * FROM Player_Attributes\", cnx)"
   ]
  },
  {
   "cell_type": "code",
   "execution_count": 4,
   "metadata": {},
   "outputs": [
    {
     "data": {
      "text/html": [
       "<div>\n",
       "<style scoped>\n",
       "    .dataframe tbody tr th:only-of-type {\n",
       "        vertical-align: middle;\n",
       "    }\n",
       "\n",
       "    .dataframe tbody tr th {\n",
       "        vertical-align: top;\n",
       "    }\n",
       "\n",
       "    .dataframe thead th {\n",
       "        text-align: right;\n",
       "    }\n",
       "</style>\n",
       "<table border=\"1\" class=\"dataframe\">\n",
       "  <thead>\n",
       "    <tr style=\"text-align: right;\">\n",
       "      <th></th>\n",
       "      <th>id</th>\n",
       "      <th>player_fifa_api_id</th>\n",
       "      <th>player_api_id</th>\n",
       "      <th>date</th>\n",
       "      <th>overall_rating</th>\n",
       "      <th>potential</th>\n",
       "      <th>preferred_foot</th>\n",
       "      <th>attacking_work_rate</th>\n",
       "      <th>defensive_work_rate</th>\n",
       "      <th>crossing</th>\n",
       "      <th>...</th>\n",
       "      <th>vision</th>\n",
       "      <th>penalties</th>\n",
       "      <th>marking</th>\n",
       "      <th>standing_tackle</th>\n",
       "      <th>sliding_tackle</th>\n",
       "      <th>gk_diving</th>\n",
       "      <th>gk_handling</th>\n",
       "      <th>gk_kicking</th>\n",
       "      <th>gk_positioning</th>\n",
       "      <th>gk_reflexes</th>\n",
       "    </tr>\n",
       "  </thead>\n",
       "  <tbody>\n",
       "    <tr>\n",
       "      <th>0</th>\n",
       "      <td>1</td>\n",
       "      <td>218353</td>\n",
       "      <td>505942</td>\n",
       "      <td>2016-02-18 00:00:00</td>\n",
       "      <td>67.0</td>\n",
       "      <td>71.0</td>\n",
       "      <td>right</td>\n",
       "      <td>medium</td>\n",
       "      <td>medium</td>\n",
       "      <td>49.0</td>\n",
       "      <td>...</td>\n",
       "      <td>54.0</td>\n",
       "      <td>48.0</td>\n",
       "      <td>65.0</td>\n",
       "      <td>69.0</td>\n",
       "      <td>69.0</td>\n",
       "      <td>6.0</td>\n",
       "      <td>11.0</td>\n",
       "      <td>10.0</td>\n",
       "      <td>8.0</td>\n",
       "      <td>8.0</td>\n",
       "    </tr>\n",
       "    <tr>\n",
       "      <th>1</th>\n",
       "      <td>2</td>\n",
       "      <td>218353</td>\n",
       "      <td>505942</td>\n",
       "      <td>2015-11-19 00:00:00</td>\n",
       "      <td>67.0</td>\n",
       "      <td>71.0</td>\n",
       "      <td>right</td>\n",
       "      <td>medium</td>\n",
       "      <td>medium</td>\n",
       "      <td>49.0</td>\n",
       "      <td>...</td>\n",
       "      <td>54.0</td>\n",
       "      <td>48.0</td>\n",
       "      <td>65.0</td>\n",
       "      <td>69.0</td>\n",
       "      <td>69.0</td>\n",
       "      <td>6.0</td>\n",
       "      <td>11.0</td>\n",
       "      <td>10.0</td>\n",
       "      <td>8.0</td>\n",
       "      <td>8.0</td>\n",
       "    </tr>\n",
       "    <tr>\n",
       "      <th>2</th>\n",
       "      <td>3</td>\n",
       "      <td>218353</td>\n",
       "      <td>505942</td>\n",
       "      <td>2015-09-21 00:00:00</td>\n",
       "      <td>62.0</td>\n",
       "      <td>66.0</td>\n",
       "      <td>right</td>\n",
       "      <td>medium</td>\n",
       "      <td>medium</td>\n",
       "      <td>49.0</td>\n",
       "      <td>...</td>\n",
       "      <td>54.0</td>\n",
       "      <td>48.0</td>\n",
       "      <td>65.0</td>\n",
       "      <td>66.0</td>\n",
       "      <td>69.0</td>\n",
       "      <td>6.0</td>\n",
       "      <td>11.0</td>\n",
       "      <td>10.0</td>\n",
       "      <td>8.0</td>\n",
       "      <td>8.0</td>\n",
       "    </tr>\n",
       "    <tr>\n",
       "      <th>3</th>\n",
       "      <td>4</td>\n",
       "      <td>218353</td>\n",
       "      <td>505942</td>\n",
       "      <td>2015-03-20 00:00:00</td>\n",
       "      <td>61.0</td>\n",
       "      <td>65.0</td>\n",
       "      <td>right</td>\n",
       "      <td>medium</td>\n",
       "      <td>medium</td>\n",
       "      <td>48.0</td>\n",
       "      <td>...</td>\n",
       "      <td>53.0</td>\n",
       "      <td>47.0</td>\n",
       "      <td>62.0</td>\n",
       "      <td>63.0</td>\n",
       "      <td>66.0</td>\n",
       "      <td>5.0</td>\n",
       "      <td>10.0</td>\n",
       "      <td>9.0</td>\n",
       "      <td>7.0</td>\n",
       "      <td>7.0</td>\n",
       "    </tr>\n",
       "    <tr>\n",
       "      <th>4</th>\n",
       "      <td>5</td>\n",
       "      <td>218353</td>\n",
       "      <td>505942</td>\n",
       "      <td>2007-02-22 00:00:00</td>\n",
       "      <td>61.0</td>\n",
       "      <td>65.0</td>\n",
       "      <td>right</td>\n",
       "      <td>medium</td>\n",
       "      <td>medium</td>\n",
       "      <td>48.0</td>\n",
       "      <td>...</td>\n",
       "      <td>53.0</td>\n",
       "      <td>47.0</td>\n",
       "      <td>62.0</td>\n",
       "      <td>63.0</td>\n",
       "      <td>66.0</td>\n",
       "      <td>5.0</td>\n",
       "      <td>10.0</td>\n",
       "      <td>9.0</td>\n",
       "      <td>7.0</td>\n",
       "      <td>7.0</td>\n",
       "    </tr>\n",
       "  </tbody>\n",
       "</table>\n",
       "<p>5 rows × 42 columns</p>\n",
       "</div>"
      ],
      "text/plain": [
       "   id  player_fifa_api_id  player_api_id                 date  overall_rating  \\\n",
       "0   1              218353         505942  2016-02-18 00:00:00            67.0   \n",
       "1   2              218353         505942  2015-11-19 00:00:00            67.0   \n",
       "2   3              218353         505942  2015-09-21 00:00:00            62.0   \n",
       "3   4              218353         505942  2015-03-20 00:00:00            61.0   \n",
       "4   5              218353         505942  2007-02-22 00:00:00            61.0   \n",
       "\n",
       "   potential preferred_foot attacking_work_rate defensive_work_rate  crossing  \\\n",
       "0       71.0          right              medium              medium      49.0   \n",
       "1       71.0          right              medium              medium      49.0   \n",
       "2       66.0          right              medium              medium      49.0   \n",
       "3       65.0          right              medium              medium      48.0   \n",
       "4       65.0          right              medium              medium      48.0   \n",
       "\n",
       "      ...       vision  penalties  marking  standing_tackle  sliding_tackle  \\\n",
       "0     ...         54.0       48.0     65.0             69.0            69.0   \n",
       "1     ...         54.0       48.0     65.0             69.0            69.0   \n",
       "2     ...         54.0       48.0     65.0             66.0            69.0   \n",
       "3     ...         53.0       47.0     62.0             63.0            66.0   \n",
       "4     ...         53.0       47.0     62.0             63.0            66.0   \n",
       "\n",
       "   gk_diving  gk_handling  gk_kicking  gk_positioning  gk_reflexes  \n",
       "0        6.0         11.0        10.0             8.0          8.0  \n",
       "1        6.0         11.0        10.0             8.0          8.0  \n",
       "2        6.0         11.0        10.0             8.0          8.0  \n",
       "3        5.0         10.0         9.0             7.0          7.0  \n",
       "4        5.0         10.0         9.0             7.0          7.0  \n",
       "\n",
       "[5 rows x 42 columns]"
      ]
     },
     "execution_count": 4,
     "metadata": {},
     "output_type": "execute_result"
    }
   ],
   "source": [
    "df.head()"
   ]
  },
  {
   "cell_type": "code",
   "execution_count": 5,
   "metadata": {},
   "outputs": [
    {
     "data": {
      "text/plain": [
       "(183978, 42)"
      ]
     },
     "execution_count": 5,
     "metadata": {},
     "output_type": "execute_result"
    }
   ],
   "source": [
    "df.shape"
   ]
  },
  {
   "cell_type": "markdown",
   "metadata": {},
   "source": [
    "##### Check for numeric variables distribution"
   ]
  },
  {
   "cell_type": "code",
   "execution_count": 10,
   "metadata": {},
   "outputs": [
    {
     "data": {
      "text/html": [
       "<div>\n",
       "<style scoped>\n",
       "    .dataframe tbody tr th:only-of-type {\n",
       "        vertical-align: middle;\n",
       "    }\n",
       "\n",
       "    .dataframe tbody tr th {\n",
       "        vertical-align: top;\n",
       "    }\n",
       "\n",
       "    .dataframe thead th {\n",
       "        text-align: right;\n",
       "    }\n",
       "</style>\n",
       "<table border=\"1\" class=\"dataframe\">\n",
       "  <thead>\n",
       "    <tr style=\"text-align: right;\">\n",
       "      <th></th>\n",
       "      <th>id</th>\n",
       "      <th>player_fifa_api_id</th>\n",
       "      <th>player_api_id</th>\n",
       "      <th>overall_rating</th>\n",
       "      <th>potential</th>\n",
       "      <th>crossing</th>\n",
       "      <th>finishing</th>\n",
       "      <th>heading_accuracy</th>\n",
       "      <th>short_passing</th>\n",
       "      <th>volleys</th>\n",
       "      <th>...</th>\n",
       "      <th>vision</th>\n",
       "      <th>penalties</th>\n",
       "      <th>marking</th>\n",
       "      <th>standing_tackle</th>\n",
       "      <th>sliding_tackle</th>\n",
       "      <th>gk_diving</th>\n",
       "      <th>gk_handling</th>\n",
       "      <th>gk_kicking</th>\n",
       "      <th>gk_positioning</th>\n",
       "      <th>gk_reflexes</th>\n",
       "    </tr>\n",
       "  </thead>\n",
       "  <tbody>\n",
       "    <tr>\n",
       "      <th>count</th>\n",
       "      <td>183978.00000</td>\n",
       "      <td>183978.000000</td>\n",
       "      <td>183978.000000</td>\n",
       "      <td>183142.000000</td>\n",
       "      <td>183142.000000</td>\n",
       "      <td>183142.000000</td>\n",
       "      <td>183142.000000</td>\n",
       "      <td>183142.000000</td>\n",
       "      <td>183142.000000</td>\n",
       "      <td>181265.000000</td>\n",
       "      <td>...</td>\n",
       "      <td>181265.000000</td>\n",
       "      <td>183142.000000</td>\n",
       "      <td>183142.000000</td>\n",
       "      <td>183142.000000</td>\n",
       "      <td>181265.000000</td>\n",
       "      <td>183142.000000</td>\n",
       "      <td>183142.000000</td>\n",
       "      <td>183142.000000</td>\n",
       "      <td>183142.000000</td>\n",
       "      <td>183142.000000</td>\n",
       "    </tr>\n",
       "    <tr>\n",
       "      <th>mean</th>\n",
       "      <td>91989.50000</td>\n",
       "      <td>165671.524291</td>\n",
       "      <td>135900.617324</td>\n",
       "      <td>68.600015</td>\n",
       "      <td>73.460353</td>\n",
       "      <td>55.086883</td>\n",
       "      <td>49.921078</td>\n",
       "      <td>57.266023</td>\n",
       "      <td>62.429672</td>\n",
       "      <td>49.468436</td>\n",
       "      <td>...</td>\n",
       "      <td>57.873550</td>\n",
       "      <td>55.003986</td>\n",
       "      <td>46.772242</td>\n",
       "      <td>50.351257</td>\n",
       "      <td>48.001462</td>\n",
       "      <td>14.704393</td>\n",
       "      <td>16.063612</td>\n",
       "      <td>20.998362</td>\n",
       "      <td>16.132154</td>\n",
       "      <td>16.441439</td>\n",
       "    </tr>\n",
       "    <tr>\n",
       "      <th>std</th>\n",
       "      <td>53110.01825</td>\n",
       "      <td>53851.094769</td>\n",
       "      <td>136927.840510</td>\n",
       "      <td>7.041139</td>\n",
       "      <td>6.592271</td>\n",
       "      <td>17.242135</td>\n",
       "      <td>19.038705</td>\n",
       "      <td>16.488905</td>\n",
       "      <td>14.194068</td>\n",
       "      <td>18.256618</td>\n",
       "      <td>...</td>\n",
       "      <td>15.144086</td>\n",
       "      <td>15.546519</td>\n",
       "      <td>21.227667</td>\n",
       "      <td>21.483706</td>\n",
       "      <td>21.598778</td>\n",
       "      <td>16.865467</td>\n",
       "      <td>15.867382</td>\n",
       "      <td>21.452980</td>\n",
       "      <td>16.099175</td>\n",
       "      <td>17.198155</td>\n",
       "    </tr>\n",
       "    <tr>\n",
       "      <th>min</th>\n",
       "      <td>1.00000</td>\n",
       "      <td>2.000000</td>\n",
       "      <td>2625.000000</td>\n",
       "      <td>33.000000</td>\n",
       "      <td>39.000000</td>\n",
       "      <td>1.000000</td>\n",
       "      <td>1.000000</td>\n",
       "      <td>1.000000</td>\n",
       "      <td>3.000000</td>\n",
       "      <td>1.000000</td>\n",
       "      <td>...</td>\n",
       "      <td>1.000000</td>\n",
       "      <td>2.000000</td>\n",
       "      <td>1.000000</td>\n",
       "      <td>1.000000</td>\n",
       "      <td>2.000000</td>\n",
       "      <td>1.000000</td>\n",
       "      <td>1.000000</td>\n",
       "      <td>1.000000</td>\n",
       "      <td>1.000000</td>\n",
       "      <td>1.000000</td>\n",
       "    </tr>\n",
       "    <tr>\n",
       "      <th>25%</th>\n",
       "      <td>45995.25000</td>\n",
       "      <td>155798.000000</td>\n",
       "      <td>34763.000000</td>\n",
       "      <td>64.000000</td>\n",
       "      <td>69.000000</td>\n",
       "      <td>45.000000</td>\n",
       "      <td>34.000000</td>\n",
       "      <td>49.000000</td>\n",
       "      <td>57.000000</td>\n",
       "      <td>35.000000</td>\n",
       "      <td>...</td>\n",
       "      <td>49.000000</td>\n",
       "      <td>45.000000</td>\n",
       "      <td>25.000000</td>\n",
       "      <td>29.000000</td>\n",
       "      <td>25.000000</td>\n",
       "      <td>7.000000</td>\n",
       "      <td>8.000000</td>\n",
       "      <td>8.000000</td>\n",
       "      <td>8.000000</td>\n",
       "      <td>8.000000</td>\n",
       "    </tr>\n",
       "    <tr>\n",
       "      <th>50%</th>\n",
       "      <td>91989.50000</td>\n",
       "      <td>183488.000000</td>\n",
       "      <td>77741.000000</td>\n",
       "      <td>69.000000</td>\n",
       "      <td>74.000000</td>\n",
       "      <td>59.000000</td>\n",
       "      <td>53.000000</td>\n",
       "      <td>60.000000</td>\n",
       "      <td>65.000000</td>\n",
       "      <td>52.000000</td>\n",
       "      <td>...</td>\n",
       "      <td>60.000000</td>\n",
       "      <td>57.000000</td>\n",
       "      <td>50.000000</td>\n",
       "      <td>56.000000</td>\n",
       "      <td>53.000000</td>\n",
       "      <td>10.000000</td>\n",
       "      <td>11.000000</td>\n",
       "      <td>12.000000</td>\n",
       "      <td>11.000000</td>\n",
       "      <td>11.000000</td>\n",
       "    </tr>\n",
       "    <tr>\n",
       "      <th>75%</th>\n",
       "      <td>137983.75000</td>\n",
       "      <td>199848.000000</td>\n",
       "      <td>191080.000000</td>\n",
       "      <td>73.000000</td>\n",
       "      <td>78.000000</td>\n",
       "      <td>68.000000</td>\n",
       "      <td>65.000000</td>\n",
       "      <td>68.000000</td>\n",
       "      <td>72.000000</td>\n",
       "      <td>64.000000</td>\n",
       "      <td>...</td>\n",
       "      <td>69.000000</td>\n",
       "      <td>67.000000</td>\n",
       "      <td>66.000000</td>\n",
       "      <td>69.000000</td>\n",
       "      <td>67.000000</td>\n",
       "      <td>13.000000</td>\n",
       "      <td>15.000000</td>\n",
       "      <td>15.000000</td>\n",
       "      <td>15.000000</td>\n",
       "      <td>15.000000</td>\n",
       "    </tr>\n",
       "    <tr>\n",
       "      <th>max</th>\n",
       "      <td>183978.00000</td>\n",
       "      <td>234141.000000</td>\n",
       "      <td>750584.000000</td>\n",
       "      <td>94.000000</td>\n",
       "      <td>97.000000</td>\n",
       "      <td>95.000000</td>\n",
       "      <td>97.000000</td>\n",
       "      <td>98.000000</td>\n",
       "      <td>97.000000</td>\n",
       "      <td>93.000000</td>\n",
       "      <td>...</td>\n",
       "      <td>97.000000</td>\n",
       "      <td>96.000000</td>\n",
       "      <td>96.000000</td>\n",
       "      <td>95.000000</td>\n",
       "      <td>95.000000</td>\n",
       "      <td>94.000000</td>\n",
       "      <td>93.000000</td>\n",
       "      <td>97.000000</td>\n",
       "      <td>96.000000</td>\n",
       "      <td>96.000000</td>\n",
       "    </tr>\n",
       "  </tbody>\n",
       "</table>\n",
       "<p>8 rows × 38 columns</p>\n",
       "</div>"
      ],
      "text/plain": [
       "                 id  player_fifa_api_id  player_api_id  overall_rating  \\\n",
       "count  183978.00000       183978.000000  183978.000000   183142.000000   \n",
       "mean    91989.50000       165671.524291  135900.617324       68.600015   \n",
       "std     53110.01825        53851.094769  136927.840510        7.041139   \n",
       "min         1.00000            2.000000    2625.000000       33.000000   \n",
       "25%     45995.25000       155798.000000   34763.000000       64.000000   \n",
       "50%     91989.50000       183488.000000   77741.000000       69.000000   \n",
       "75%    137983.75000       199848.000000  191080.000000       73.000000   \n",
       "max    183978.00000       234141.000000  750584.000000       94.000000   \n",
       "\n",
       "           potential       crossing      finishing  heading_accuracy  \\\n",
       "count  183142.000000  183142.000000  183142.000000     183142.000000   \n",
       "mean       73.460353      55.086883      49.921078         57.266023   \n",
       "std         6.592271      17.242135      19.038705         16.488905   \n",
       "min        39.000000       1.000000       1.000000          1.000000   \n",
       "25%        69.000000      45.000000      34.000000         49.000000   \n",
       "50%        74.000000      59.000000      53.000000         60.000000   \n",
       "75%        78.000000      68.000000      65.000000         68.000000   \n",
       "max        97.000000      95.000000      97.000000         98.000000   \n",
       "\n",
       "       short_passing        volleys      ...               vision  \\\n",
       "count  183142.000000  181265.000000      ...        181265.000000   \n",
       "mean       62.429672      49.468436      ...            57.873550   \n",
       "std        14.194068      18.256618      ...            15.144086   \n",
       "min         3.000000       1.000000      ...             1.000000   \n",
       "25%        57.000000      35.000000      ...            49.000000   \n",
       "50%        65.000000      52.000000      ...            60.000000   \n",
       "75%        72.000000      64.000000      ...            69.000000   \n",
       "max        97.000000      93.000000      ...            97.000000   \n",
       "\n",
       "           penalties        marking  standing_tackle  sliding_tackle  \\\n",
       "count  183142.000000  183142.000000    183142.000000   181265.000000   \n",
       "mean       55.003986      46.772242        50.351257       48.001462   \n",
       "std        15.546519      21.227667        21.483706       21.598778   \n",
       "min         2.000000       1.000000         1.000000        2.000000   \n",
       "25%        45.000000      25.000000        29.000000       25.000000   \n",
       "50%        57.000000      50.000000        56.000000       53.000000   \n",
       "75%        67.000000      66.000000        69.000000       67.000000   \n",
       "max        96.000000      96.000000        95.000000       95.000000   \n",
       "\n",
       "           gk_diving    gk_handling     gk_kicking  gk_positioning  \\\n",
       "count  183142.000000  183142.000000  183142.000000   183142.000000   \n",
       "mean       14.704393      16.063612      20.998362       16.132154   \n",
       "std        16.865467      15.867382      21.452980       16.099175   \n",
       "min         1.000000       1.000000       1.000000        1.000000   \n",
       "25%         7.000000       8.000000       8.000000        8.000000   \n",
       "50%        10.000000      11.000000      12.000000       11.000000   \n",
       "75%        13.000000      15.000000      15.000000       15.000000   \n",
       "max        94.000000      93.000000      97.000000       96.000000   \n",
       "\n",
       "         gk_reflexes  \n",
       "count  183142.000000  \n",
       "mean       16.441439  \n",
       "std        17.198155  \n",
       "min         1.000000  \n",
       "25%         8.000000  \n",
       "50%        11.000000  \n",
       "75%        15.000000  \n",
       "max        96.000000  \n",
       "\n",
       "[8 rows x 38 columns]"
      ]
     },
     "execution_count": 10,
     "metadata": {},
     "output_type": "execute_result"
    }
   ],
   "source": [
    "df.describe()"
   ]
  },
  {
   "cell_type": "code",
   "execution_count": 6,
   "metadata": {},
   "outputs": [
    {
     "data": {
      "text/plain": [
       "Index(['id', 'player_fifa_api_id', 'player_api_id', 'date', 'overall_rating',\n",
       "       'potential', 'preferred_foot', 'attacking_work_rate',\n",
       "       'defensive_work_rate', 'crossing', 'finishing', 'heading_accuracy',\n",
       "       'short_passing', 'volleys', 'dribbling', 'curve', 'free_kick_accuracy',\n",
       "       'long_passing', 'ball_control', 'acceleration', 'sprint_speed',\n",
       "       'agility', 'reactions', 'balance', 'shot_power', 'jumping', 'stamina',\n",
       "       'strength', 'long_shots', 'aggression', 'interceptions', 'positioning',\n",
       "       'vision', 'penalties', 'marking', 'standing_tackle', 'sliding_tackle',\n",
       "       'gk_diving', 'gk_handling', 'gk_kicking', 'gk_positioning',\n",
       "       'gk_reflexes'],\n",
       "      dtype='object')"
      ]
     },
     "execution_count": 6,
     "metadata": {},
     "output_type": "execute_result"
    }
   ],
   "source": [
    "df.columns"
   ]
  },
  {
   "cell_type": "markdown",
   "metadata": {},
   "source": [
    "##### Check for missing values..."
   ]
  },
  {
   "cell_type": "code",
   "execution_count": 27,
   "metadata": {},
   "outputs": [
    {
     "data": {
      "text/plain": [
       "id                        0\n",
       "player_fifa_api_id        0\n",
       "player_api_id             0\n",
       "date                      0\n",
       "overall_rating          836\n",
       "potential               836\n",
       "preferred_foot          836\n",
       "attacking_work_rate    3230\n",
       "defensive_work_rate     836\n",
       "crossing                836\n",
       "finishing               836\n",
       "heading_accuracy        836\n",
       "short_passing           836\n",
       "volleys                2713\n",
       "dribbling               836\n",
       "curve                  2713\n",
       "free_kick_accuracy      836\n",
       "long_passing            836\n",
       "ball_control            836\n",
       "acceleration            836\n",
       "sprint_speed            836\n",
       "agility                2713\n",
       "reactions               836\n",
       "balance                2713\n",
       "shot_power              836\n",
       "jumping                2713\n",
       "stamina                 836\n",
       "strength                836\n",
       "long_shots              836\n",
       "aggression              836\n",
       "interceptions           836\n",
       "positioning             836\n",
       "vision                 2713\n",
       "penalties               836\n",
       "marking                 836\n",
       "standing_tackle         836\n",
       "sliding_tackle         2713\n",
       "gk_diving               836\n",
       "gk_handling             836\n",
       "gk_kicking              836\n",
       "gk_positioning          836\n",
       "gk_reflexes             836\n",
       "dtype: int64"
      ]
     },
     "execution_count": 27,
     "metadata": {},
     "output_type": "execute_result"
    }
   ],
   "source": [
    "df.isnull().sum()"
   ]
  },
  {
   "cell_type": "markdown",
   "metadata": {},
   "source": [
    "it is evident that the **dependent** column has missing values as we see a **pattern in missingness** , thus remove rows with missing values across data"
   ]
  },
  {
   "cell_type": "code",
   "execution_count": 35,
   "metadata": {},
   "outputs": [
    {
     "data": {
      "text/plain": [
       "id                        0\n",
       "player_fifa_api_id        0\n",
       "player_api_id             0\n",
       "date                      0\n",
       "overall_rating            0\n",
       "potential                 0\n",
       "preferred_foot            0\n",
       "attacking_work_rate    2394\n",
       "defensive_work_rate       0\n",
       "crossing                  0\n",
       "finishing                 0\n",
       "heading_accuracy          0\n",
       "short_passing             0\n",
       "volleys                1877\n",
       "dribbling                 0\n",
       "curve                  1877\n",
       "free_kick_accuracy        0\n",
       "long_passing              0\n",
       "ball_control              0\n",
       "acceleration              0\n",
       "sprint_speed              0\n",
       "agility                1877\n",
       "reactions                 0\n",
       "balance                1877\n",
       "shot_power                0\n",
       "jumping                1877\n",
       "stamina                   0\n",
       "strength                  0\n",
       "long_shots                0\n",
       "aggression                0\n",
       "interceptions             0\n",
       "positioning               0\n",
       "vision                 1877\n",
       "penalties                 0\n",
       "marking                   0\n",
       "standing_tackle           0\n",
       "sliding_tackle         1877\n",
       "gk_diving                 0\n",
       "gk_handling               0\n",
       "gk_kicking                0\n",
       "gk_positioning            0\n",
       "gk_reflexes               0\n",
       "dtype: int64"
      ]
     },
     "execution_count": 35,
     "metadata": {},
     "output_type": "execute_result"
    }
   ],
   "source": [
    "# Removing the missing rows from dataframe\n",
    "data = df[np.isfinite(df.overall_rating)]\n",
    "data.isnull().sum()"
   ]
  },
  {
   "cell_type": "markdown",
   "metadata": {},
   "source": [
    "Excluding rows with missing values in dependent variable"
   ]
  },
  {
   "cell_type": "code",
   "execution_count": 36,
   "metadata": {},
   "outputs": [
    {
     "data": {
      "text/plain": [
       "(183142, 42)"
      ]
     },
     "execution_count": 36,
     "metadata": {},
     "output_type": "execute_result"
    }
   ],
   "source": [
    "data.shape"
   ]
  },
  {
   "cell_type": "markdown",
   "metadata": {},
   "source": [
    "##### Check for categorical columns"
   ]
  },
  {
   "cell_type": "code",
   "execution_count": 38,
   "metadata": {},
   "outputs": [
    {
     "data": {
      "text/plain": [
       "Index(['date', 'preferred_foot', 'attacking_work_rate', 'defensive_work_rate'], dtype='object')"
      ]
     },
     "execution_count": 38,
     "metadata": {},
     "output_type": "execute_result"
    }
   ],
   "source": [
    "cat_cols = data.dtypes[data.dtypes == 'object'].index\n",
    "cat_cols"
   ]
  },
  {
   "cell_type": "code",
   "execution_count": 39,
   "metadata": {},
   "outputs": [
    {
     "data": {
      "text/plain": [
       "date                   197\n",
       "preferred_foot           2\n",
       "attacking_work_rate      8\n",
       "defensive_work_rate     19\n",
       "dtype: int64"
      ]
     },
     "execution_count": 39,
     "metadata": {},
     "output_type": "execute_result"
    }
   ],
   "source": [
    "data[cat_cols].nunique()"
   ]
  },
  {
   "cell_type": "code",
   "execution_count": 43,
   "metadata": {},
   "outputs": [
    {
     "data": {
      "text/plain": [
       "date                      0\n",
       "preferred_foot            0\n",
       "attacking_work_rate    2394\n",
       "defensive_work_rate       0\n",
       "dtype: int64"
      ]
     },
     "execution_count": 43,
     "metadata": {},
     "output_type": "execute_result"
    }
   ],
   "source": [
    "data[cat_cols].isnull().sum()"
   ]
  },
  {
   "cell_type": "code",
   "execution_count": 40,
   "metadata": {},
   "outputs": [
    {
     "data": {
      "text/plain": [
       "medium    0.711205\n",
       "high      0.146980\n",
       "low       0.100186\n",
       "_0        0.013012\n",
       "o         0.008425\n",
       "1         0.002397\n",
       "ormal     0.001892\n",
       "2         0.001859\n",
       "3         0.001402\n",
       "5         0.001272\n",
       "7         0.001179\n",
       "0         0.001071\n",
       "6         0.001071\n",
       "9         0.000826\n",
       "4         0.000631\n",
       "es        0.000576\n",
       "ean       0.000565\n",
       "tocky     0.000484\n",
       "8         0.000424\n",
       "Name: defensive_work_rate, dtype: float64"
      ]
     },
     "execution_count": 40,
     "metadata": {},
     "output_type": "execute_result"
    }
   ],
   "source": [
    "data.defensive_work_rate.value_counts()/df.shape[0]"
   ]
  },
  {
   "cell_type": "markdown",
   "metadata": {},
   "source": [
    "Replace the values with appropriate values"
   ]
  },
  {
   "cell_type": "code",
   "execution_count": 55,
   "metadata": {},
   "outputs": [],
   "source": [
    "ls1 = ['_0','o','0','1','2','3','ormal','es','ean','tocky']\n",
    "ls2 =['4','5','6']\n",
    "ls3 =['7','8','9']\n",
    "\n",
    "for i in ls1:\n",
    "    data.defensive_work_rate.replace({i:'low'},inplace=True)\n",
    "    for j in ls2:\n",
    "        data.defensive_work_rate.replace({j:'medium'},inplace=True)\n",
    "        for h in ls3:\n",
    "            data.defensive_work_rate.replace({h:'high'},inplace=True)"
   ]
  },
  {
   "cell_type": "code",
   "execution_count": 56,
   "metadata": {},
   "outputs": [
    {
     "data": {
      "text/plain": [
       "medium    0.714178\n",
       "high      0.149409\n",
       "low       0.131869\n",
       "Name: defensive_work_rate, dtype: float64"
      ]
     },
     "execution_count": 56,
     "metadata": {},
     "output_type": "execute_result"
    }
   ],
   "source": [
    "data.defensive_work_rate.value_counts()/df.shape[0]"
   ]
  },
  {
   "cell_type": "code",
   "execution_count": 41,
   "metadata": {},
   "outputs": [
    {
     "data": {
      "text/plain": [
       "medium    0.679810\n",
       "high      0.232762\n",
       "low       0.046576\n",
       "None      0.019780\n",
       "norm      0.001892\n",
       "y         0.000576\n",
       "le        0.000565\n",
       "stoc      0.000484\n",
       "Name: attacking_work_rate, dtype: float64"
      ]
     },
     "execution_count": 41,
     "metadata": {},
     "output_type": "execute_result"
    }
   ],
   "source": [
    "data.attacking_work_rate.value_counts()/df.shape[0]"
   ]
  },
  {
   "cell_type": "code",
   "execution_count": 50,
   "metadata": {},
   "outputs": [],
   "source": [
    "data.attacking_work_rate.replace({'norm':'low','y':'low','le':'low','stoc':'low','None':'low'},inplace=True)"
   ]
  },
  {
   "cell_type": "code",
   "execution_count": 46,
   "metadata": {},
   "outputs": [],
   "source": [
    "from scipy.stats import mode\n",
    "# data.attacking_work_rate.fillna(mode(data.attacking_work_rate.astype(str)).mode[0],inplace=True)"
   ]
  },
  {
   "cell_type": "code",
   "execution_count": 51,
   "metadata": {},
   "outputs": [
    {
     "data": {
      "text/plain": [
       "medium    0.692822\n",
       "high      0.232762\n",
       "low       0.069872\n",
       "Name: attacking_work_rate, dtype: float64"
      ]
     },
     "execution_count": 51,
     "metadata": {},
     "output_type": "execute_result"
    }
   ],
   "source": [
    "data.attacking_work_rate.value_counts()/df.shape[0]"
   ]
  },
  {
   "cell_type": "code",
   "execution_count": 42,
   "metadata": {},
   "outputs": [
    {
     "data": {
      "text/plain": [
       "array(['right', 'left'], dtype=object)"
      ]
     },
     "execution_count": 42,
     "metadata": {},
     "output_type": "execute_result"
    }
   ],
   "source": [
    "data.preferred_foot.unique()"
   ]
  },
  {
   "cell_type": "code",
   "execution_count": 58,
   "metadata": {},
   "outputs": [
    {
     "data": {
      "text/plain": [
       "pandas.core.series.Series"
      ]
     },
     "execution_count": 58,
     "metadata": {},
     "output_type": "execute_result"
    }
   ],
   "source": [
    "type(data.date)"
   ]
  },
  {
   "cell_type": "markdown",
   "metadata": {},
   "source": [
    "##### Derive new columns from Date field"
   ]
  },
  {
   "cell_type": "code",
   "execution_count": 61,
   "metadata": {},
   "outputs": [],
   "source": [
    "data['year'] = pd.DatetimeIndex(data.date).year\n",
    "data['month'] = pd.DatetimeIndex(data.date).month\n",
    "data['day'] = pd.DatetimeIndex(data.date).day"
   ]
  },
  {
   "cell_type": "code",
   "execution_count": null,
   "metadata": {},
   "outputs": [],
   "source": [
    "data.drop('date',axis=1, inplace=True)"
   ]
  },
  {
   "cell_type": "code",
   "execution_count": 67,
   "metadata": {},
   "outputs": [
    {
     "data": {
      "text/plain": [
       "Index(['preferred_foot', 'attacking_work_rate', 'defensive_work_rate'], dtype='object')"
      ]
     },
     "execution_count": 67,
     "metadata": {},
     "output_type": "execute_result"
    }
   ],
   "source": [
    "cat_cols1 = data.columns[data.dtypes=='object']\n",
    "cat_cols1"
   ]
  },
  {
   "cell_type": "code",
   "execution_count": 64,
   "metadata": {},
   "outputs": [
    {
     "data": {
      "text/html": [
       "<div>\n",
       "<style scoped>\n",
       "    .dataframe tbody tr th:only-of-type {\n",
       "        vertical-align: middle;\n",
       "    }\n",
       "\n",
       "    .dataframe tbody tr th {\n",
       "        vertical-align: top;\n",
       "    }\n",
       "\n",
       "    .dataframe thead th {\n",
       "        text-align: right;\n",
       "    }\n",
       "</style>\n",
       "<table border=\"1\" class=\"dataframe\">\n",
       "  <thead>\n",
       "    <tr style=\"text-align: right;\">\n",
       "      <th></th>\n",
       "      <th>id</th>\n",
       "      <th>player_fifa_api_id</th>\n",
       "      <th>player_api_id</th>\n",
       "      <th>overall_rating</th>\n",
       "      <th>potential</th>\n",
       "      <th>preferred_foot</th>\n",
       "      <th>attacking_work_rate</th>\n",
       "      <th>defensive_work_rate</th>\n",
       "      <th>crossing</th>\n",
       "      <th>finishing</th>\n",
       "      <th>...</th>\n",
       "      <th>standing_tackle</th>\n",
       "      <th>sliding_tackle</th>\n",
       "      <th>gk_diving</th>\n",
       "      <th>gk_handling</th>\n",
       "      <th>gk_kicking</th>\n",
       "      <th>gk_positioning</th>\n",
       "      <th>gk_reflexes</th>\n",
       "      <th>year</th>\n",
       "      <th>month</th>\n",
       "      <th>day</th>\n",
       "    </tr>\n",
       "  </thead>\n",
       "  <tbody>\n",
       "    <tr>\n",
       "      <th>0</th>\n",
       "      <td>1</td>\n",
       "      <td>218353</td>\n",
       "      <td>505942</td>\n",
       "      <td>67.0</td>\n",
       "      <td>71.0</td>\n",
       "      <td>right</td>\n",
       "      <td>medium</td>\n",
       "      <td>medium</td>\n",
       "      <td>49.0</td>\n",
       "      <td>44.0</td>\n",
       "      <td>...</td>\n",
       "      <td>69.0</td>\n",
       "      <td>69.0</td>\n",
       "      <td>6.0</td>\n",
       "      <td>11.0</td>\n",
       "      <td>10.0</td>\n",
       "      <td>8.0</td>\n",
       "      <td>8.0</td>\n",
       "      <td>2016</td>\n",
       "      <td>2</td>\n",
       "      <td>18</td>\n",
       "    </tr>\n",
       "    <tr>\n",
       "      <th>1</th>\n",
       "      <td>2</td>\n",
       "      <td>218353</td>\n",
       "      <td>505942</td>\n",
       "      <td>67.0</td>\n",
       "      <td>71.0</td>\n",
       "      <td>right</td>\n",
       "      <td>medium</td>\n",
       "      <td>medium</td>\n",
       "      <td>49.0</td>\n",
       "      <td>44.0</td>\n",
       "      <td>...</td>\n",
       "      <td>69.0</td>\n",
       "      <td>69.0</td>\n",
       "      <td>6.0</td>\n",
       "      <td>11.0</td>\n",
       "      <td>10.0</td>\n",
       "      <td>8.0</td>\n",
       "      <td>8.0</td>\n",
       "      <td>2015</td>\n",
       "      <td>11</td>\n",
       "      <td>19</td>\n",
       "    </tr>\n",
       "  </tbody>\n",
       "</table>\n",
       "<p>2 rows × 44 columns</p>\n",
       "</div>"
      ],
      "text/plain": [
       "   id  player_fifa_api_id  player_api_id  overall_rating  potential  \\\n",
       "0   1              218353         505942            67.0       71.0   \n",
       "1   2              218353         505942            67.0       71.0   \n",
       "\n",
       "  preferred_foot attacking_work_rate defensive_work_rate  crossing  finishing  \\\n",
       "0          right              medium              medium      49.0       44.0   \n",
       "1          right              medium              medium      49.0       44.0   \n",
       "\n",
       "  ...   standing_tackle  sliding_tackle  gk_diving  gk_handling  gk_kicking  \\\n",
       "0 ...              69.0            69.0        6.0         11.0        10.0   \n",
       "1 ...              69.0            69.0        6.0         11.0        10.0   \n",
       "\n",
       "   gk_positioning  gk_reflexes  year  month  day  \n",
       "0             8.0          8.0  2016      2   18  \n",
       "1             8.0          8.0  2015     11   19  \n",
       "\n",
       "[2 rows x 44 columns]"
      ]
     },
     "execution_count": 64,
     "metadata": {},
     "output_type": "execute_result"
    }
   ],
   "source": [
    "data.head(2)"
   ]
  },
  {
   "cell_type": "markdown",
   "metadata": {},
   "source": [
    "#### Step2: Data Exploration..."
   ]
  },
  {
   "cell_type": "markdown",
   "metadata": {},
   "source": [
    "##### Check the dependent variable skewness"
   ]
  },
  {
   "cell_type": "code",
   "execution_count": 69,
   "metadata": {},
   "outputs": [
    {
     "name": "stdout",
     "output_type": "stream",
     "text": [
      "The skewness is: -0.19936732712920868\n"
     ]
    },
    {
     "data": {
      "text/plain": [
       "<matplotlib.axes._subplots.AxesSubplot at 0xc4f9780>"
      ]
     },
     "execution_count": 69,
     "metadata": {},
     "output_type": "execute_result"
    },
    {
     "data": {
      "image/png": "[encoded data removed]",
      "text/plain": [
       "<Figure size 432x288 with 1 Axes>"
      ]
     },
     "metadata": {},
     "output_type": "display_data"
    }
   ],
   "source": [
    "print('The skewness is:',data.overall_rating.skew())\n",
    "data.overall_rating.hist()"
   ]
  },
  {
   "cell_type": "markdown",
   "metadata": {},
   "source": []
  },
  {
   "cell_type": "markdown",
   "metadata": {},
   "source": [
    "#### Step3: Model Building... "
   ]
  },
  {
   "cell_type": "markdown",
   "metadata": {},
   "source": [
    "##### Convert categorical data into numeric data"
   ]
  },
  {
   "cell_type": "code",
   "execution_count": 110,
   "metadata": {},
   "outputs": [],
   "source": [
    "# Exclude the columns with ids\n",
    "rel_col = [x for x in data.columns if x not in (['id','player_fifa_api_id','player_api_id'])]"
   ]
  },
  {
   "cell_type": "markdown",
   "metadata": {},
   "source": [
    "##### Convert categorical columns into numeric columns"
   ]
  },
  {
   "cell_type": "code",
   "execution_count": 71,
   "metadata": {},
   "outputs": [],
   "source": [
    "from sklearn.preprocessing import LabelEncoder\n",
    "for i in cat_cols1:\n",
    "    le = LabelEncoder()\n",
    "    data[i] = le.fit_transform(data[i])"
   ]
  },
  {
   "cell_type": "code",
   "execution_count": 111,
   "metadata": {},
   "outputs": [],
   "source": [
    "# Devide data into X and y\n",
    "y = data.overall_rating\n",
    "X = data[rel_col].drop('overall_rating',axis=1)"
   ]
  },
  {
   "cell_type": "markdown",
   "metadata": {},
   "source": [
    "##### Build Linear regression model with Imputer()"
   ]
  },
  {
   "cell_type": "code",
   "execution_count": 112,
   "metadata": {},
   "outputs": [
    {
     "name": "stdout",
     "output_type": "stream",
     "text": [
      "The model score is: 0.8497409996117686\n",
      "The RMSE is: 2.7355504573799614\n"
     ]
    }
   ],
   "source": [
    "# Using pipeline method...\n",
    "from sklearn.pipeline import Pipeline\n",
    "from sklearn.preprocessing import Imputer\n",
    "imp = Imputer(missing_values='NaN', strategy='mean', axis=0)\n",
    "linreg = LinearRegression()\n",
    "steps = [('imputation', imp),('linear_regression', linreg)]\n",
    "pipeline = Pipeline(steps)\n",
    "X_train, X_test, y_train, y_test = train_test_split(X, y,\n",
    "                                 test_size=0.3, random_state=42)\n",
    "pipeline.fit(X_train, y_train)\n",
    "y_pred = pipeline.predict(X_test)\n",
    "print('The model score is:',pipeline.score(X_test, y_test))\n",
    "print('The RMSE is:',np.sqrt(mean_squared_error(y_pred,y_test)))"
   ]
  },
  {
   "cell_type": "markdown",
   "metadata": {},
   "source": [
    "#### Building Base models with all columns..."
   ]
  },
  {
   "cell_type": "code",
   "execution_count": 113,
   "metadata": {},
   "outputs": [],
   "source": [
    "X.fillna(X.mean(),inplace=True)"
   ]
  },
  {
   "cell_type": "code",
   "execution_count": 97,
   "metadata": {},
   "outputs": [],
   "source": [
    "from sklearn.ensemble import RandomForestRegressor\n",
    "models = []\n",
    "models.append(('Lin_Reg:',LinearRegression()))\n",
    "models.append(('Ridge:',Ridge(alpha=0.5, normalize=True)))\n",
    "models.append(('Lasso:', Lasso(alpha=0.5, normalize=True)))\n",
    "models.append(('ElasticNet:',ElasticNet(alpha=0.5, l1_ratio=0.5, normalize=True)))\n",
    "models.append(('Decision_Tree:',DecisionTreeRegressor(max_depth=5)))\n",
    "# models.append(('Random_Forest:', RandomForestRegressor(n_estimators=100)))"
   ]
  },
  {
   "cell_type": "code",
   "execution_count": 99,
   "metadata": {},
   "outputs": [
    {
     "name": "stdout",
     "output_type": "stream",
     "text": [
      "Lin_Reg:: -6.283687 (0.139219)\n",
      "Ridge:: -8.373024 (0.248824)\n",
      "Lasso:: -49.587108 (1.701797)\n",
      "ElasticNet:: -49.587108 (1.701797)\n",
      "Decision_Tree:: -11.231922 (0.448858)\n"
     ]
    }
   ],
   "source": [
    "results=[]\n",
    "names=[]\n",
    "scoring = 'mean_squared_error'\n",
    "for name, model in models:\n",
    "    kfold = KFold(n_splits=10, random_state=7)\n",
    "    cv_results = cross_val_score(model, X, y, cv=kfold, scoring=scoring)\n",
    "    results.append(cv_results)\n",
    "    names.append(name)\n",
    "    msg = \"%s: %f (%f)\" % (name, cv_results.mean(), cv_results.std())\n",
    "    print(msg)"
   ]
  },
  {
   "cell_type": "markdown",
   "metadata": {},
   "source": [
    "From the above models we can understand that linear regression is giving minimum CV errors comapred to other models"
   ]
  },
  {
   "cell_type": "markdown",
   "metadata": {},
   "source": [
    "#### Building Decision tree model..."
   ]
  },
  {
   "cell_type": "code",
   "execution_count": 114,
   "metadata": {},
   "outputs": [
    {
     "name": "stdout",
     "output_type": "stream",
     "text": [
      "The CV score for Dtree is: -16.132224 (0.206242)\n",
      "The RMSE on validation data is: 4.0352239258848845\n"
     ]
    }
   ],
   "source": [
    "x_train, x_test, Y_train, Y_test = train_test_split(X, y,\n",
    "                                 test_size=0.3, random_state=40)\n",
    "\n",
    "dtree = DecisionTreeRegressor(max_depth=3, random_state=2)\n",
    "kfold = KFold(n_splits=10,random_state=3 )\n",
    "scores = cross_val_score(dtree,x_train,Y_train, cv=kfold, scoring='mean_squared_error')\n",
    "print('The CV score for Dtree is: %f (%f)' % (scores.mean(), scores.std()))\n",
    "dtree.fit(x_train,Y_train)\n",
    "pred = dtree.predict(x_test)\n",
    "print('The RMSE on validation data is:',np.sqrt(mean_squared_error(pred,Y_test)))\n"
   ]
  },
  {
   "cell_type": "markdown",
   "metadata": {},
   "source": [
    "#### Building Random Forest Model..."
   ]
  },
  {
   "cell_type": "code",
   "execution_count": 115,
   "metadata": {},
   "outputs": [],
   "source": [
    "from scipy.stats import randint as sp_randint\n",
    "params = { 'n_estimators': sp_randint(50, 1000),\n",
    "         'max_depth': sp_randint(2,8),\n",
    "         'min_samples_leaf': sp_randint(5,50),\n",
    "         'min_samples_split': sp_randint(5,50)}"
   ]
  },
  {
   "cell_type": "code",
   "execution_count": 118,
   "metadata": {},
   "outputs": [],
   "source": [
    "rf = RandomForestRegressor()\n",
    "rscv = RandomizedSearchCV(rf, param_distributions=params, n_iter=10, verbose=1)"
   ]
  },
  {
   "cell_type": "code",
   "execution_count": null,
   "metadata": {},
   "outputs": [
    {
     "name": "stdout",
     "output_type": "stream",
     "text": [
      "Fitting 3 folds for each of 10 candidates, totalling 30 fits\n"
     ]
    }
   ],
   "source": [
    "rscv.fit(x_train,Y_train)"
   ]
  },
  {
   "cell_type": "code",
   "execution_count": null,
   "metadata": {},
   "outputs": [],
   "source": [
    "rscv.best_params_"
   ]
  },
  {
   "cell_type": "code",
   "execution_count": null,
   "metadata": {},
   "outputs": [],
   "source": [
    "pred = rscv.predict(x_test)\n",
    "print('The RMSE on validation data is:',np.sqrt(mean_squared_error(pred,Y_test)))"
   ]
  }
 ],
 "metadata": {
  "kernelspec": {
   "display_name": "Python 3",
   "language": "python",
   "name": "python3"
  },
  "language_info": {
   "codemirror_mode": {
    "name": "ipython",
    "version": 3
   },
   "file_extension": ".py",
   "mimetype": "text/x-python",
   "name": "python",
   "nbconvert_exporter": "python",
   "pygments_lexer": "ipython3",
   "version": "3.6.5"
  }
 },
 "nbformat": 4,
 "nbformat_minor": 2
}
